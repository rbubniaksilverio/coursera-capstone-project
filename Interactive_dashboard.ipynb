{
    "cells": [
        {
            "cell_type": "code",
            "execution_count": 1,
            "metadata": {},
            "outputs": [
                {
                    "name": "stdout",
                    "output_type": "stream",
                    "text": "Requirement already satisfied: pandas in c:\\programdata\\anaconda3\\lib\\site-packages (1.0.5)\nRequirement already satisfied: dash in c:\\programdata\\anaconda3\\lib\\site-packages (2.2.0)\nRequirement already satisfied: numpy>=1.13.3 in c:\\programdata\\anaconda3\\lib\\site-packages (from pandas) (1.22.3)\nRequirement already satisfied: python-dateutil>=2.6.1 in c:\\programdata\\anaconda3\\lib\\site-packages (from pandas) (2.8.1)\nRequirement already satisfied: pytz>=2017.2 in c:\\programdata\\anaconda3\\lib\\site-packages (from pandas) (2020.1)\nRequirement already satisfied: dash-core-components==2.0.0 in c:\\programdata\\anaconda3\\lib\\site-packages (from dash) (2.0.0)\nRequirement already satisfied: dash-html-components==2.0.0 in c:\\programdata\\anaconda3\\lib\\site-packages (from dash) (2.0.0)\nRequirement already satisfied: flask-compress in c:\\programdata\\anaconda3\\lib\\site-packages (from dash) (1.10.1)\nRequirement already satisfied: Flask>=1.0.4 in c:\\programdata\\anaconda3\\lib\\site-packages (from dash) (1.1.2)\nRequirement already satisfied: dash-table==5.0.0 in c:\\programdata\\anaconda3\\lib\\site-packages (from dash) (5.0.0)\nRequirement already satisfied: plotly>=5.0.0 in c:\\programdata\\anaconda3\\lib\\site-packages (from dash) (5.3.1)\nRequirement already satisfied: six>=1.5 in c:\\programdata\\anaconda3\\lib\\site-packages (from python-dateutil>=2.6.1->pandas) (1.15.0)\nRequirement already satisfied: brotli in c:\\programdata\\anaconda3\\lib\\site-packages (from flask-compress->dash) (1.0.9)\nRequirement already satisfied: Werkzeug>=0.15 in c:\\programdata\\anaconda3\\lib\\site-packages (from Flask>=1.0.4->dash) (1.0.1)\nRequirement already satisfied: click>=5.1 in c:\\programdata\\anaconda3\\lib\\site-packages (from Flask>=1.0.4->dash) (7.1.2)\nRequirement already satisfied: Jinja2>=2.10.1 in c:\\programdata\\anaconda3\\lib\\site-packages (from Flask>=1.0.4->dash) (2.11.2)\nRequirement already satisfied: itsdangerous>=0.24 in c:\\programdata\\anaconda3\\lib\\site-packages (from Flask>=1.0.4->dash) (1.1.0)\nRequirement already satisfied: tenacity>=6.2.0 in c:\\programdata\\anaconda3\\lib\\site-packages (from plotly>=5.0.0->dash) (8.0.1)\nRequirement already satisfied: MarkupSafe>=0.23 in c:\\programdata\\anaconda3\\lib\\site-packages (from Jinja2>=2.10.1->Flask>=1.0.4->dash) (1.1.1)\n"
                }
            ],
            "source": "#Install python packages required to run the application.\n!pip3 install pandas dash"
        },
        {
            "cell_type": "code",
            "execution_count": 1,
            "metadata": {},
            "outputs": [],
            "source": "#import\nimport wget\nimport pandas as pd\nimport dash\nfrom dash import html\nfrom dash import dcc\nfrom dash.dependencies import Input, Output, State\nimport plotly\nimport plotly.express as px\nimport plotly.graph_objects as go"
        },
        {
            "cell_type": "code",
            "execution_count": 4,
            "metadata": {},
            "outputs": [
                {
                    "name": "stdout",
                    "output_type": "stream",
                    "text": "100% [................................................................................] 3033 / 3033"
                },
                {
                    "data": {
                        "text/plain": "'spacex_launch_dash.csv'"
                    },
                    "execution_count": 4,
                    "metadata": {},
                    "output_type": "execute_result"
                }
            ],
            "source": "#Download a skeleton dashboard application and dataset\n#First, let's get the SpaceX Launch dataset for this lab:\n#Run the following wget command line in the terminal to download dataset as spacex_launch_dash.csv\nwget.download(\"https://cf-courses-data.s3.us.cloud-object-storage.appdomain.cloud/IBM-DS0321EN-SkillsNetwork/datasets/spacex_launch_dash.csv\")"
        },
        {
            "cell_type": "code",
            "execution_count": 5,
            "metadata": {},
            "outputs": [
                {
                    "name": "stdout",
                    "output_type": "stream",
                    "text": "100% [................................................................................] 2110 / 2110"
                },
                {
                    "data": {
                        "text/plain": "'spacex_dash_app.py'"
                    },
                    "execution_count": 5,
                    "metadata": {},
                    "output_type": "execute_result"
                }
            ],
            "source": "wget.download(\"https://cf-courses-data.s3.us.cloud-object-storage.appdomain.cloud/IBM-DS0321EN-SkillsNetwork/labs/module_3/spacex_dash_app.py\")"
        },
        {
            "cell_type": "code",
            "execution_count": 2,
            "metadata": {},
            "outputs": [
                {
                    "data": {
                        "text/html": "<div>\n<style scoped>\n    .dataframe tbody tr th:only-of-type {\n        vertical-align: middle;\n    }\n\n    .dataframe tbody tr th {\n        vertical-align: top;\n    }\n\n    .dataframe thead th {\n        text-align: right;\n    }\n</style>\n<table border=\"1\" class=\"dataframe\">\n  <thead>\n    <tr style=\"text-align: right;\">\n      <th></th>\n      <th>Unnamed: 0</th>\n      <th>Flight Number</th>\n      <th>Launch Site</th>\n      <th>Mission Outcome</th>\n      <th>class</th>\n      <th>Payload Mass (kg)</th>\n      <th>Booster Version</th>\n      <th>Booster Version Category</th>\n    </tr>\n  </thead>\n  <tbody>\n    <tr>\n      <th>0</th>\n      <td>0</td>\n      <td>1</td>\n      <td>CCAFS LC-40</td>\n      <td>Success</td>\n      <td>0</td>\n      <td>0.0</td>\n      <td>F9 v1.0  B0003</td>\n      <td>v1.0</td>\n    </tr>\n    <tr>\n      <th>1</th>\n      <td>1</td>\n      <td>2</td>\n      <td>CCAFS LC-40</td>\n      <td>Success</td>\n      <td>0</td>\n      <td>0.0</td>\n      <td>F9 v1.0  B0004</td>\n      <td>v1.0</td>\n    </tr>\n    <tr>\n      <th>2</th>\n      <td>2</td>\n      <td>3</td>\n      <td>CCAFS LC-40</td>\n      <td>Success</td>\n      <td>0</td>\n      <td>525.0</td>\n      <td>F9 v1.0  B0005</td>\n      <td>v1.0</td>\n    </tr>\n    <tr>\n      <th>3</th>\n      <td>3</td>\n      <td>4</td>\n      <td>CCAFS LC-40</td>\n      <td>Success</td>\n      <td>0</td>\n      <td>500.0</td>\n      <td>F9 v1.0  B0006</td>\n      <td>v1.0</td>\n    </tr>\n    <tr>\n      <th>4</th>\n      <td>4</td>\n      <td>5</td>\n      <td>CCAFS LC-40</td>\n      <td>Success</td>\n      <td>0</td>\n      <td>677.0</td>\n      <td>F9 v1.0  B0007</td>\n      <td>v1.0</td>\n    </tr>\n  </tbody>\n</table>\n</div>",
                        "text/plain": "   Unnamed: 0  Flight Number  Launch Site Mission Outcome  class  \\\n0           0              1  CCAFS LC-40         Success      0   \n1           1              2  CCAFS LC-40         Success      0   \n2           2              3  CCAFS LC-40         Success      0   \n3           3              4  CCAFS LC-40         Success      0   \n4           4              5  CCAFS LC-40         Success      0   \n\n   Payload Mass (kg) Booster Version Booster Version Category  \n0                0.0  F9 v1.0  B0003                     v1.0  \n1                0.0  F9 v1.0  B0004                     v1.0  \n2              525.0  F9 v1.0  B0005                     v1.0  \n3              500.0  F9 v1.0  B0006                     v1.0  \n4              677.0  F9 v1.0  B0007                     v1.0  "
                    },
                    "execution_count": 2,
                    "metadata": {},
                    "output_type": "execute_result"
                }
            ],
            "source": "# Read the airline data into pandas dataframe\nspacex_df = pd.read_csv(\"spacex_launch_dash.csv\")\nmax_payload = spacex_df['Payload Mass (kg)'].max()\nmin_payload = spacex_df['Payload Mass (kg)'].min()\nspacex_df.head()"
        },
        {
            "cell_type": "code",
            "execution_count": 3,
            "metadata": {},
            "outputs": [],
            "source": "# Create a dash application\napp = dash.Dash(__name__)"
        },
        {
            "cell_type": "code",
            "execution_count": 4,
            "metadata": {},
            "outputs": [],
            "source": "# Create an app layout\napp.layout = html.Div(children=[\n    html.H1('SpaceX Launch Records Dashboard',style={'textAlign': 'center', 'color': '#503D36','font-size': 40}),\n    # TASK 1: Add a dropdown list to enable Launch Site selection\n    # The default select value is for ALL sites\n    # dcc.Dropdown(id='site-dropdown',...)\n    dcc.Dropdown(id='site-dropdown',\n                 options=[\n                     {'label':'All Sites', 'value':'ALL'},\n                     {'label':'CCAFS LC-40', 'value':'CCAFS LC-40'},\n                     {'label':'KSC LC-39A', 'value':'KSC LC-39A'},\n                     {'label':'VAFB SLC-4E', 'value':'VAFB SLC-4E'},\n                     {'label':'CCAFS SLC-40', 'value':'CCAFS SLC-40'}],\n                 value = 'ALL',\n                 placeholder='Select a Launch Site here',\n                 searchable=True,\n                 style={'width': '100%', 'padding': '3px', 'font-size': '20px', 'textAlign': 'center'}),\n    html.Br(),\n    # TASK 2: Add a pie chart to show the total successful launches count for all sites\n    # If a specific launch site was selected, show the Success vs. Failed counts for the site\n    html.Div(dcc.Graph(id='success-pie-chart'))\n    ,\n    html.Br()\n    ,\n    html.P(\"Payload range (Kg):\"),\n    # TASK 3: Add a slider to select payload range\n    dcc.RangeSlider(id='payload-slider',\n                    min = 0,\n                    max = 10000,\n                    #step=1000,\n                    value =[min_payload,max_payload]\n                   ),\n    # TASK 4: Add a scatter chart to show the correlation between payload and launch success\n    html.Div(dcc.Graph(id='success-payload-scatter-chart')),\n])"
        },
        {
            "cell_type": "code",
            "execution_count": 5,
            "metadata": {},
            "outputs": [],
            "source": "# TASK 2:\n# Add a callback function for `site-dropdown` as input, `success-pie-chart` as output\n@app.callback(Output(component_id='success-pie-chart', component_property='figure'),\n              Input(component_id='site-dropdown', component_property='value'))\n\ndef get_pie_chart(entered_site):\n    \n    if entered_site == 'ALL':\n        filtered_df = spacex_df\n        fig2 = px.pie(filtered_df, values='class', \n        names='Launch Site', \n        title='Total Success Launches By Site')\n    else:\n        filtered_df = spacex_df[spacex_df['Launch Site'] == entered_site].groupby(['Launch Site', 'class']).size().reset_index(name='class count')\n        fig2 = px.pie(filtered_df, values='class count', \n        names='class', \n        title= f\"Total Success Launches for site {entered_site}\")\n    return fig2\n\n# Add a callback function for `site-dropdown` and `payload-slider` as inputs, `success-payload-scatter-chart` as output\n@app.callback(\nOutput(component_id='success-payload-scatter-chart', component_property='figure'),\n[Input(component_id='site-dropdown', component_property='value'),\nInput(component_id='payload-slider', component_property='value')]\n)\ndef get_scatter(value1,value2):\n    filtered_df2=spacex_df[(spacex_df['Payload Mass (kg)'] > value2[0]) & (spacex_df['Payload Mass (kg)'] < value2[1])]\n\n    if value1=='ALL':\n        fig= px.scatter(filtered_df2,x=\"Payload Mass (kg)\",y=\"class\",color=\"Booster Version Category\",\\\n        title=\"Payload x Success for All sites\")\n        return fig\n    else :\n        filtered_df3 = filtered_df2[filtered_df2['Launch Site']==value1]\n        fig= px.scatter(filtered_df3,x=\"Payload Mass (kg)\",y=\"class\",color=\"Booster Version Category\",\\\n        title=f\"Payload x Success for site {value1}\")\n        return fig"
        },
        {
            "cell_type": "code",
            "execution_count": null,
            "metadata": {},
            "outputs": [
                {
                    "name": "stdout",
                    "output_type": "stream",
                    "text": "Dash is running on http://127.0.0.1:8050/\n\n * Serving Flask app \"__main__\" (lazy loading)\n * Environment: production\n   WARNING: This is a development server. Do not use it in a production deployment.\n   Use a production WSGI server instead.\n * Debug mode: off\n"
                },
                {
                    "name": "stderr",
                    "output_type": "stream",
                    "text": " * Running on http://127.0.0.1:8050/ (Press CTRL+C to quit)\n127.0.0.1 - - [22/Mar/2022 10:57:28] \"\u001b[37mGET / HTTP/1.1\u001b[0m\" 200 -\n127.0.0.1 - - [22/Mar/2022 10:57:28] \"\u001b[37mGET /_dash-layout HTTP/1.1\u001b[0m\" 200 -\n127.0.0.1 - - [22/Mar/2022 10:57:28] \"\u001b[37mGET /_dash-dependencies HTTP/1.1\u001b[0m\" 200 -\n127.0.0.1 - - [22/Mar/2022 10:57:28] \"\u001b[36mGET /_dash-component-suites/dash/dcc/async-dropdown.js HTTP/1.1\u001b[0m\" 304 -\n127.0.0.1 - - [22/Mar/2022 10:57:28] \"\u001b[36mGET /_dash-component-suites/dash/dcc/async-graph.js HTTP/1.1\u001b[0m\" 304 -\n127.0.0.1 - - [22/Mar/2022 10:57:28] \"\u001b[36mGET /_dash-component-suites/dash/dcc/async-plotlyjs.js HTTP/1.1\u001b[0m\" 304 -\n127.0.0.1 - - [22/Mar/2022 10:57:28] \"\u001b[36mGET /_dash-component-suites/dash/dcc/async-slider.js HTTP/1.1\u001b[0m\" 304 -\n127.0.0.1 - - [22/Mar/2022 10:57:31] \"\u001b[37mPOST /_dash-update-component HTTP/1.1\u001b[0m\" 200 -\n127.0.0.1 - - [22/Mar/2022 10:57:31] \"\u001b[37mPOST /_dash-update-component HTTP/1.1\u001b[0m\" 200 -\n127.0.0.1 - - [22/Mar/2022 10:57:37] \"\u001b[37mPOST /_dash-update-component HTTP/1.1\u001b[0m\" 200 -\n127.0.0.1 - - [22/Mar/2022 10:57:41] \"\u001b[37mPOST /_dash-update-component HTTP/1.1\u001b[0m\" 200 -\n127.0.0.1 - - [22/Mar/2022 10:57:43] \"\u001b[37mPOST /_dash-update-component HTTP/1.1\u001b[0m\" 200 -\n"
                }
            ],
            "source": "# Run the app\nif __name__ == '__main__':\n    app.run_server()"
        },
        {
            "cell_type": "code",
            "execution_count": null,
            "metadata": {},
            "outputs": [],
            "source": ""
        }
    ],
    "metadata": {
        "kernelspec": {
            "display_name": "Python 3",
            "language": "python",
            "name": "python3"
        },
        "language_info": {
            "codemirror_mode": {
                "name": "ipython",
                "version": 3
            },
            "file_extension": ".py",
            "mimetype": "text/x-python",
            "name": "python",
            "nbconvert_exporter": "python",
            "pygments_lexer": "ipython3",
            "version": "3.8.3"
        }
    },
    "nbformat": 4,
    "nbformat_minor": 4
}